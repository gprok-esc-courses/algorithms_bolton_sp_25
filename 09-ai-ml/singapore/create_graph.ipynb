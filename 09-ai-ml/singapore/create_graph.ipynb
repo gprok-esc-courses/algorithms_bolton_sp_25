{
 "cells": [
  {
   "cell_type": "code",
   "execution_count": 327,
   "id": "05b2603d-d45b-43da-b3e3-09777165069e",
   "metadata": {},
   "outputs": [],
   "source": [
    "import pandas as pd"
   ]
  },
  {
   "cell_type": "code",
   "execution_count": 328,
   "id": "bac4e2a2-5b19-49c4-ae73-f119013f5c6d",
   "metadata": {},
   "outputs": [],
   "source": [
    "data = pd.read_csv('stations.csv')"
   ]
  },
  {
   "cell_type": "code",
   "execution_count": 329,
   "id": "671c3ae4-951b-47c3-8a3f-082fd862751d",
   "metadata": {},
   "outputs": [],
   "source": [
    "features = pd.DataFrame()"
   ]
  },
  {
   "cell_type": "code",
   "execution_count": 330,
   "id": "20600d58-e4c8-4a4d-9b98-4d79f9eb88b6",
   "metadata": {},
   "outputs": [],
   "source": [
    "features['name'] = data['STN_NAME']"
   ]
  },
  {
   "cell_type": "code",
   "execution_count": 331,
   "id": "109856d5-1733-48b9-b287-d4a9067455a6",
   "metadata": {},
   "outputs": [],
   "source": [
    "features['code'] = data['STN_NO']"
   ]
  },
  {
   "cell_type": "code",
   "execution_count": 332,
   "id": "6d30e362-2a8e-4f56-970f-1233ec7b487b",
   "metadata": {},
   "outputs": [
    {
     "data": {
      "text/html": [
       "<div>\n",
       "<style scoped>\n",
       "    .dataframe tbody tr th:only-of-type {\n",
       "        vertical-align: middle;\n",
       "    }\n",
       "\n",
       "    .dataframe tbody tr th {\n",
       "        vertical-align: top;\n",
       "    }\n",
       "\n",
       "    .dataframe thead th {\n",
       "        text-align: right;\n",
       "    }\n",
       "</style>\n",
       "<table border=\"1\" class=\"dataframe\">\n",
       "  <thead>\n",
       "    <tr style=\"text-align: right;\">\n",
       "      <th></th>\n",
       "      <th>name</th>\n",
       "      <th>code</th>\n",
       "    </tr>\n",
       "  </thead>\n",
       "  <tbody>\n",
       "    <tr>\n",
       "      <th>0</th>\n",
       "      <td>EUNOS MRT STATION</td>\n",
       "      <td>EW7</td>\n",
       "    </tr>\n",
       "    <tr>\n",
       "      <th>1</th>\n",
       "      <td>CHINESE GARDEN MRT STATION</td>\n",
       "      <td>EW25</td>\n",
       "    </tr>\n",
       "    <tr>\n",
       "      <th>2</th>\n",
       "      <td>KHATIB MRT STATION</td>\n",
       "      <td>NS14</td>\n",
       "    </tr>\n",
       "    <tr>\n",
       "      <th>3</th>\n",
       "      <td>KRANJI MRT STATION</td>\n",
       "      <td>NS7</td>\n",
       "    </tr>\n",
       "    <tr>\n",
       "      <th>4</th>\n",
       "      <td>REDHILL MRT STATION</td>\n",
       "      <td>EW18</td>\n",
       "    </tr>\n",
       "  </tbody>\n",
       "</table>\n",
       "</div>"
      ],
      "text/plain": [
       "                         name  code\n",
       "0           EUNOS MRT STATION   EW7\n",
       "1  CHINESE GARDEN MRT STATION  EW25\n",
       "2          KHATIB MRT STATION  NS14\n",
       "3          KRANJI MRT STATION   NS7\n",
       "4         REDHILL MRT STATION  EW18"
      ]
     },
     "execution_count": 332,
     "metadata": {},
     "output_type": "execute_result"
    }
   ],
   "source": [
    "features.head()"
   ]
  },
  {
   "cell_type": "code",
   "execution_count": 333,
   "id": "47e3a6cf-876a-4133-8fc8-64441d970cdb",
   "metadata": {},
   "outputs": [
    {
     "data": {
      "text/plain": [
       "(171, 2)"
      ]
     },
     "execution_count": 333,
     "metadata": {},
     "output_type": "execute_result"
    }
   ],
   "source": [
    "features.shape"
   ]
  },
  {
   "cell_type": "code",
   "execution_count": 334,
   "id": "444b24e7-5c76-42b8-88ea-4c6e9faec455",
   "metadata": {},
   "outputs": [
    {
     "name": "stdout",
     "output_type": "stream",
     "text": [
      "['EW8', 'CC9']\n",
      "['EW2', 'DT32']\n",
      "['CG1', 'DT35']\n",
      "['EW24', 'NS1']\n",
      "['NS9', 'TE2']\n",
      "['EW21', 'CC22']\n",
      "['CC10', 'DT26']\n",
      "['EW13', 'NS25']\n",
      "['NE1', 'CC29']\n",
      "['EW12', 'DT14']\n",
      "['NS22', 'TE14']\n",
      "['DT16', 'CE1']\n",
      "['CC17', 'TE9']\n",
      "['NS27', 'TE20', 'CE2']\n",
      "['NE4', 'DT19']\n",
      "['NS24', 'NE6', 'CC1']\n",
      "['NE12', 'CC13']\n",
      "['NS17', 'CC15']\n",
      "['NE7', 'DT12']\n",
      "['DT10', 'TE11']\n",
      "['CC4', 'DT15']\n",
      "['CC19', 'DT9']\n",
      "['EW14', 'NS26']\n",
      "['NS21', 'DT11']\n"
     ]
    }
   ],
   "source": [
    "rows_list = features.values\n",
    "new_rows = []\n",
    "for row in rows_list:\n",
    "    codes = row[1].split('/')\n",
    "    if len(codes) > 1:\n",
    "        print(codes)\n",
    "        row[1] = codes[0]\n",
    "        for i in range(1, len(codes)):\n",
    "            new_rows.append([row[0], codes[i]])\n",
    "        "
   ]
  },
  {
   "cell_type": "code",
   "execution_count": 335,
   "id": "7b2275af-42eb-42d6-9068-5bcb4cb8dacc",
   "metadata": {},
   "outputs": [
    {
     "data": {
      "text/plain": [
       "[['PAYA LEBAR MRT STATION', 'CC9'],\n",
       " ['TAMPINES MRT STATION', 'DT32'],\n",
       " ['EXPO MRT STATION', 'DT35'],\n",
       " ['JURONG EAST MRT STATION', 'NS1'],\n",
       " ['WOODLANDS MRT STATION', 'TE2'],\n",
       " ['BUONA VISTA MRT STATION', 'CC22'],\n",
       " ['MACPHERSON MRT STATION', 'DT26'],\n",
       " ['CITY HALL MRT STATION', 'NS25'],\n",
       " ['HARBOURFRONT MRT STATION', 'CC29'],\n",
       " ['BUGIS MRT STATION', 'DT14'],\n",
       " ['ORCHARD MRT STATION', 'TE14'],\n",
       " ['BAYFRONT MRT STATION', 'CE1'],\n",
       " ['CALDECOTT MRT STATION', 'TE9'],\n",
       " ['MARINA BAY MRT STATION', 'TE20'],\n",
       " ['MARINA BAY MRT STATION', 'CE2'],\n",
       " ['CHINATOWN MRT STATION', 'DT19'],\n",
       " ['DHOBY GHAUT MRT STATION', 'NE6'],\n",
       " ['DHOBY GHAUT MRT STATION', 'CC1'],\n",
       " ['SERANGOON MRT STATION', 'CC13'],\n",
       " ['BISHAN MRT STATION', 'CC15'],\n",
       " ['LITTLE INDIA MRT STATION', 'DT12'],\n",
       " ['STEVENS MRT STATION', 'TE11'],\n",
       " ['PROMENADE MRT STATION', 'DT15'],\n",
       " ['BOTANIC GARDENS MRT STATION', 'DT9'],\n",
       " ['RAFFLES PLACE MRT STATION', 'NS26'],\n",
       " ['NEWTON MRT STATION', 'DT11']]"
      ]
     },
     "execution_count": 335,
     "metadata": {},
     "output_type": "execute_result"
    }
   ],
   "source": [
    "new_rows"
   ]
  },
  {
   "cell_type": "code",
   "execution_count": 336,
   "id": "d2510e62-0648-4326-926a-2c7bbcd009fa",
   "metadata": {},
   "outputs": [],
   "source": [
    "rows = rows_list.tolist()\n",
    "for row in new_rows:\n",
    "    rows.append(row)"
   ]
  },
  {
   "cell_type": "code",
   "execution_count": 337,
   "id": "5077b6e1-ba8e-4cf0-a243-01086530ac69",
   "metadata": {},
   "outputs": [],
   "source": [
    "df = pd.DataFrame(rows)"
   ]
  },
  {
   "cell_type": "code",
   "execution_count": 338,
   "id": "2a0f128e-b779-4edc-8957-17f03e1a2226",
   "metadata": {},
   "outputs": [
    {
     "data": {
      "text/plain": [
       "26"
      ]
     },
     "execution_count": 338,
     "metadata": {},
     "output_type": "execute_result"
    }
   ],
   "source": [
    "len(new_rows)"
   ]
  },
  {
   "cell_type": "code",
   "execution_count": 339,
   "id": "07ec3dc6-3bbf-4dd9-b5df-c8cafda5f323",
   "metadata": {},
   "outputs": [
    {
     "data": {
      "text/plain": [
       "(197, 2)"
      ]
     },
     "execution_count": 339,
     "metadata": {},
     "output_type": "execute_result"
    }
   ],
   "source": [
    "df.shape"
   ]
  },
  {
   "cell_type": "code",
   "execution_count": 340,
   "id": "19093110-2862-4bd8-a287-693473f3ded3",
   "metadata": {},
   "outputs": [],
   "source": [
    "df['line'] = None"
   ]
  },
  {
   "cell_type": "code",
   "execution_count": 341,
   "id": "442cd121-75b9-4bdb-b8d7-5bc1201f3e4f",
   "metadata": {},
   "outputs": [],
   "source": [
    "df['num'] = None"
   ]
  },
  {
   "cell_type": "code",
   "execution_count": 342,
   "id": "f8231636-e38a-41ac-b042-435a4092d5d2",
   "metadata": {},
   "outputs": [],
   "source": [
    "import re"
   ]
  },
  {
   "cell_type": "code",
   "execution_count": 343,
   "id": "47ca4074-5d5f-4997-9661-9dfc5a84820a",
   "metadata": {},
   "outputs": [],
   "source": [
    "pattern_digits = \"[0-9]+\"\n",
    "pattern_capital = \"[A-Z]+\""
   ]
  },
  {
   "cell_type": "code",
   "execution_count": 344,
   "id": "2549a416-897b-4277-9d2c-00fe7c48ec8a",
   "metadata": {},
   "outputs": [],
   "source": [
    "def extract_digits(code):\n",
    "    result = re.findall(pattern_digits, code)\n",
    "    if len(result) == 0:\n",
    "        print(\"Problem: \", code)\n",
    "        return None\n",
    "    return result[0]"
   ]
  },
  {
   "cell_type": "code",
   "execution_count": 345,
   "id": "b29f1afb-1d68-4109-82da-e5a00509ade6",
   "metadata": {},
   "outputs": [],
   "source": [
    "def extract_letters(code):\n",
    "    result = re.findall(pattern_capital, code)\n",
    "    return result[0]"
   ]
  },
  {
   "cell_type": "code",
   "execution_count": 346,
   "id": "31cf35bc-5cc7-4786-a799-713084c7a368",
   "metadata": {},
   "outputs": [
    {
     "data": {
      "text/html": [
       "<div>\n",
       "<style scoped>\n",
       "    .dataframe tbody tr th:only-of-type {\n",
       "        vertical-align: middle;\n",
       "    }\n",
       "\n",
       "    .dataframe tbody tr th {\n",
       "        vertical-align: top;\n",
       "    }\n",
       "\n",
       "    .dataframe thead th {\n",
       "        text-align: right;\n",
       "    }\n",
       "</style>\n",
       "<table border=\"1\" class=\"dataframe\">\n",
       "  <thead>\n",
       "    <tr style=\"text-align: right;\">\n",
       "      <th></th>\n",
       "      <th>0</th>\n",
       "      <th>1</th>\n",
       "      <th>line</th>\n",
       "      <th>num</th>\n",
       "    </tr>\n",
       "  </thead>\n",
       "  <tbody>\n",
       "    <tr>\n",
       "      <th>0</th>\n",
       "      <td>EUNOS MRT STATION</td>\n",
       "      <td>EW7</td>\n",
       "      <td>None</td>\n",
       "      <td>None</td>\n",
       "    </tr>\n",
       "    <tr>\n",
       "      <th>1</th>\n",
       "      <td>CHINESE GARDEN MRT STATION</td>\n",
       "      <td>EW25</td>\n",
       "      <td>None</td>\n",
       "      <td>None</td>\n",
       "    </tr>\n",
       "    <tr>\n",
       "      <th>2</th>\n",
       "      <td>KHATIB MRT STATION</td>\n",
       "      <td>NS14</td>\n",
       "      <td>None</td>\n",
       "      <td>None</td>\n",
       "    </tr>\n",
       "    <tr>\n",
       "      <th>3</th>\n",
       "      <td>KRANJI MRT STATION</td>\n",
       "      <td>NS7</td>\n",
       "      <td>None</td>\n",
       "      <td>None</td>\n",
       "    </tr>\n",
       "    <tr>\n",
       "      <th>4</th>\n",
       "      <td>REDHILL MRT STATION</td>\n",
       "      <td>EW18</td>\n",
       "      <td>None</td>\n",
       "      <td>None</td>\n",
       "    </tr>\n",
       "  </tbody>\n",
       "</table>\n",
       "</div>"
      ],
      "text/plain": [
       "                            0     1  line   num\n",
       "0           EUNOS MRT STATION   EW7  None  None\n",
       "1  CHINESE GARDEN MRT STATION  EW25  None  None\n",
       "2          KHATIB MRT STATION  NS14  None  None\n",
       "3          KRANJI MRT STATION   NS7  None  None\n",
       "4         REDHILL MRT STATION  EW18  None  None"
      ]
     },
     "execution_count": 346,
     "metadata": {},
     "output_type": "execute_result"
    }
   ],
   "source": [
    "df.head()"
   ]
  },
  {
   "cell_type": "code",
   "execution_count": 347,
   "id": "c129dab6-71bf-4ac4-866e-4fc3187ce610",
   "metadata": {},
   "outputs": [],
   "source": [
    "df.rename(columns={0: 'name', 1: 'code'}, inplace=True)"
   ]
  },
  {
   "cell_type": "code",
   "execution_count": 348,
   "id": "7d699d49-fc9c-4e4e-84d2-c8ba54455b7c",
   "metadata": {},
   "outputs": [
    {
     "data": {
      "text/html": [
       "<div>\n",
       "<style scoped>\n",
       "    .dataframe tbody tr th:only-of-type {\n",
       "        vertical-align: middle;\n",
       "    }\n",
       "\n",
       "    .dataframe tbody tr th {\n",
       "        vertical-align: top;\n",
       "    }\n",
       "\n",
       "    .dataframe thead th {\n",
       "        text-align: right;\n",
       "    }\n",
       "</style>\n",
       "<table border=\"1\" class=\"dataframe\">\n",
       "  <thead>\n",
       "    <tr style=\"text-align: right;\">\n",
       "      <th></th>\n",
       "      <th>name</th>\n",
       "      <th>code</th>\n",
       "      <th>line</th>\n",
       "      <th>num</th>\n",
       "    </tr>\n",
       "  </thead>\n",
       "  <tbody>\n",
       "    <tr>\n",
       "      <th>0</th>\n",
       "      <td>EUNOS MRT STATION</td>\n",
       "      <td>EW7</td>\n",
       "      <td>None</td>\n",
       "      <td>None</td>\n",
       "    </tr>\n",
       "    <tr>\n",
       "      <th>1</th>\n",
       "      <td>CHINESE GARDEN MRT STATION</td>\n",
       "      <td>EW25</td>\n",
       "      <td>None</td>\n",
       "      <td>None</td>\n",
       "    </tr>\n",
       "    <tr>\n",
       "      <th>2</th>\n",
       "      <td>KHATIB MRT STATION</td>\n",
       "      <td>NS14</td>\n",
       "      <td>None</td>\n",
       "      <td>None</td>\n",
       "    </tr>\n",
       "    <tr>\n",
       "      <th>3</th>\n",
       "      <td>KRANJI MRT STATION</td>\n",
       "      <td>NS7</td>\n",
       "      <td>None</td>\n",
       "      <td>None</td>\n",
       "    </tr>\n",
       "    <tr>\n",
       "      <th>4</th>\n",
       "      <td>REDHILL MRT STATION</td>\n",
       "      <td>EW18</td>\n",
       "      <td>None</td>\n",
       "      <td>None</td>\n",
       "    </tr>\n",
       "  </tbody>\n",
       "</table>\n",
       "</div>"
      ],
      "text/plain": [
       "                         name  code  line   num\n",
       "0           EUNOS MRT STATION   EW7  None  None\n",
       "1  CHINESE GARDEN MRT STATION  EW25  None  None\n",
       "2          KHATIB MRT STATION  NS14  None  None\n",
       "3          KRANJI MRT STATION   NS7  None  None\n",
       "4         REDHILL MRT STATION  EW18  None  None"
      ]
     },
     "execution_count": 348,
     "metadata": {},
     "output_type": "execute_result"
    }
   ],
   "source": [
    "df.head()"
   ]
  },
  {
   "cell_type": "code",
   "execution_count": 349,
   "id": "da6d2b4e-baca-4f26-b590-656f85686d46",
   "metadata": {},
   "outputs": [],
   "source": [
    "df['line'] = df.apply(lambda x: extract_letters(x.code), axis=1)"
   ]
  },
  {
   "cell_type": "code",
   "execution_count": 350,
   "id": "90ff62eb-bb2e-4d99-887a-87f29f21f664",
   "metadata": {},
   "outputs": [
    {
     "data": {
      "text/html": [
       "<div>\n",
       "<style scoped>\n",
       "    .dataframe tbody tr th:only-of-type {\n",
       "        vertical-align: middle;\n",
       "    }\n",
       "\n",
       "    .dataframe tbody tr th {\n",
       "        vertical-align: top;\n",
       "    }\n",
       "\n",
       "    .dataframe thead th {\n",
       "        text-align: right;\n",
       "    }\n",
       "</style>\n",
       "<table border=\"1\" class=\"dataframe\">\n",
       "  <thead>\n",
       "    <tr style=\"text-align: right;\">\n",
       "      <th></th>\n",
       "      <th>name</th>\n",
       "      <th>code</th>\n",
       "      <th>line</th>\n",
       "      <th>num</th>\n",
       "    </tr>\n",
       "  </thead>\n",
       "  <tbody>\n",
       "    <tr>\n",
       "      <th>0</th>\n",
       "      <td>EUNOS MRT STATION</td>\n",
       "      <td>EW7</td>\n",
       "      <td>EW</td>\n",
       "      <td>None</td>\n",
       "    </tr>\n",
       "    <tr>\n",
       "      <th>1</th>\n",
       "      <td>CHINESE GARDEN MRT STATION</td>\n",
       "      <td>EW25</td>\n",
       "      <td>EW</td>\n",
       "      <td>None</td>\n",
       "    </tr>\n",
       "    <tr>\n",
       "      <th>2</th>\n",
       "      <td>KHATIB MRT STATION</td>\n",
       "      <td>NS14</td>\n",
       "      <td>NS</td>\n",
       "      <td>None</td>\n",
       "    </tr>\n",
       "    <tr>\n",
       "      <th>3</th>\n",
       "      <td>KRANJI MRT STATION</td>\n",
       "      <td>NS7</td>\n",
       "      <td>NS</td>\n",
       "      <td>None</td>\n",
       "    </tr>\n",
       "    <tr>\n",
       "      <th>4</th>\n",
       "      <td>REDHILL MRT STATION</td>\n",
       "      <td>EW18</td>\n",
       "      <td>EW</td>\n",
       "      <td>None</td>\n",
       "    </tr>\n",
       "  </tbody>\n",
       "</table>\n",
       "</div>"
      ],
      "text/plain": [
       "                         name  code line   num\n",
       "0           EUNOS MRT STATION   EW7   EW  None\n",
       "1  CHINESE GARDEN MRT STATION  EW25   EW  None\n",
       "2          KHATIB MRT STATION  NS14   NS  None\n",
       "3          KRANJI MRT STATION   NS7   NS  None\n",
       "4         REDHILL MRT STATION  EW18   EW  None"
      ]
     },
     "execution_count": 350,
     "metadata": {},
     "output_type": "execute_result"
    }
   ],
   "source": [
    "df.head()"
   ]
  },
  {
   "cell_type": "code",
   "execution_count": 351,
   "id": "6fe67f0e-edb0-47c9-bcee-741bff4930d7",
   "metadata": {},
   "outputs": [
    {
     "name": "stdout",
     "output_type": "stream",
     "text": [
      "Problem:  PTC\n",
      "Problem:  STC\n"
     ]
    }
   ],
   "source": [
    "df['num'] = df.apply(lambda x: extract_digits(x.code), axis=1)"
   ]
  },
  {
   "cell_type": "code",
   "execution_count": 352,
   "id": "1b132aa6-a5e4-4c7c-9bca-07fb00f6cda2",
   "metadata": {},
   "outputs": [
    {
     "data": {
      "text/html": [
       "<div>\n",
       "<style scoped>\n",
       "    .dataframe tbody tr th:only-of-type {\n",
       "        vertical-align: middle;\n",
       "    }\n",
       "\n",
       "    .dataframe tbody tr th {\n",
       "        vertical-align: top;\n",
       "    }\n",
       "\n",
       "    .dataframe thead th {\n",
       "        text-align: right;\n",
       "    }\n",
       "</style>\n",
       "<table border=\"1\" class=\"dataframe\">\n",
       "  <thead>\n",
       "    <tr style=\"text-align: right;\">\n",
       "      <th></th>\n",
       "      <th>name</th>\n",
       "      <th>code</th>\n",
       "      <th>line</th>\n",
       "      <th>num</th>\n",
       "    </tr>\n",
       "  </thead>\n",
       "  <tbody>\n",
       "    <tr>\n",
       "      <th>0</th>\n",
       "      <td>EUNOS MRT STATION</td>\n",
       "      <td>EW7</td>\n",
       "      <td>EW</td>\n",
       "      <td>7</td>\n",
       "    </tr>\n",
       "    <tr>\n",
       "      <th>1</th>\n",
       "      <td>CHINESE GARDEN MRT STATION</td>\n",
       "      <td>EW25</td>\n",
       "      <td>EW</td>\n",
       "      <td>25</td>\n",
       "    </tr>\n",
       "    <tr>\n",
       "      <th>2</th>\n",
       "      <td>KHATIB MRT STATION</td>\n",
       "      <td>NS14</td>\n",
       "      <td>NS</td>\n",
       "      <td>14</td>\n",
       "    </tr>\n",
       "    <tr>\n",
       "      <th>3</th>\n",
       "      <td>KRANJI MRT STATION</td>\n",
       "      <td>NS7</td>\n",
       "      <td>NS</td>\n",
       "      <td>7</td>\n",
       "    </tr>\n",
       "    <tr>\n",
       "      <th>4</th>\n",
       "      <td>REDHILL MRT STATION</td>\n",
       "      <td>EW18</td>\n",
       "      <td>EW</td>\n",
       "      <td>18</td>\n",
       "    </tr>\n",
       "  </tbody>\n",
       "</table>\n",
       "</div>"
      ],
      "text/plain": [
       "                         name  code line num\n",
       "0           EUNOS MRT STATION   EW7   EW   7\n",
       "1  CHINESE GARDEN MRT STATION  EW25   EW  25\n",
       "2          KHATIB MRT STATION  NS14   NS  14\n",
       "3          KRANJI MRT STATION   NS7   NS   7\n",
       "4         REDHILL MRT STATION  EW18   EW  18"
      ]
     },
     "execution_count": 352,
     "metadata": {},
     "output_type": "execute_result"
    }
   ],
   "source": [
    "df.head()"
   ]
  },
  {
   "cell_type": "code",
   "execution_count": 353,
   "id": "55aee96d-fded-4959-aa63-64186604eff8",
   "metadata": {},
   "outputs": [
    {
     "data": {
      "text/plain": [
       "(197, 4)"
      ]
     },
     "execution_count": 353,
     "metadata": {},
     "output_type": "execute_result"
    }
   ],
   "source": [
    "df.shape"
   ]
  },
  {
   "cell_type": "code",
   "execution_count": 354,
   "id": "67c529f7-cad1-4d05-89b1-7f31d146a7d8",
   "metadata": {},
   "outputs": [],
   "source": [
    "df = df.dropna()"
   ]
  },
  {
   "cell_type": "code",
   "execution_count": 355,
   "id": "062a9924-57ec-494c-a919-7134cf6eddff",
   "metadata": {},
   "outputs": [],
   "source": [
    "temp = df[df['line']=='BP']"
   ]
  },
  {
   "cell_type": "code",
   "execution_count": 356,
   "id": "25361e91-7571-4f36-83a1-9e5918c75711",
   "metadata": {},
   "outputs": [
    {
     "data": {
      "text/plain": [
       "(13, 4)"
      ]
     },
     "execution_count": 356,
     "metadata": {},
     "output_type": "execute_result"
    }
   ],
   "source": [
    "temp.shape"
   ]
  },
  {
   "cell_type": "code",
   "execution_count": 357,
   "id": "475dec6a-2960-4855-b914-c4017cbb58aa",
   "metadata": {},
   "outputs": [
    {
     "name": "stdout",
     "output_type": "stream",
     "text": [
      "['BUKIT PANJANG LRT STATION' 'BP6' 'BP' '6']\n",
      "['FAJAR LRT STATION' 'BP10' 'BP' '10']\n",
      "['KEAT HONG LRT STATION' 'BP3' 'BP' '3']\n",
      "['SENJA LRT STATION' 'BP13' 'BP' '13']\n",
      "['JELAPANG LRT STATION' 'BP12' 'BP' '12']\n",
      "['PETIR LRT STATION' 'BP7' 'BP' '7']\n",
      "['TECK WHYE LRT STATION' 'BP4' 'BP' '4']\n",
      "['CHOA CHU KANG LRT STATION' 'BP1' 'BP' '1']\n",
      "['SOUTH VIEW LRT STATION' 'BP2' 'BP' '2']\n",
      "['PENDING LRT STATION' 'BP8' 'BP' '8']\n",
      "['BANGKIT LRT STATION' 'BP9' 'BP' '9']\n",
      "['PHOENIX LRT STATION' 'BP5' 'BP' '5']\n",
      "['SEGAR LRT STATION' 'BP11' 'BP' '11']\n"
     ]
    }
   ],
   "source": [
    "for row in temp.values:\n",
    "    print(row)"
   ]
  },
  {
   "cell_type": "code",
   "execution_count": 358,
   "id": "c10b6b7d-3d6d-4806-869d-8ee30e31f263",
   "metadata": {},
   "outputs": [],
   "source": [
    "df = df[df.line != 'BP']"
   ]
  },
  {
   "cell_type": "code",
   "execution_count": 359,
   "id": "bb3067df-fb3e-47d1-a2ec-57afd6332ddf",
   "metadata": {},
   "outputs": [
    {
     "data": {
      "text/plain": [
       "(182, 4)"
      ]
     },
     "execution_count": 359,
     "metadata": {},
     "output_type": "execute_result"
    }
   ],
   "source": [
    "df.shape"
   ]
  },
  {
   "cell_type": "code",
   "execution_count": 360,
   "id": "04d8a7e3-9b20-4d10-81a1-2042455d02d8",
   "metadata": {},
   "outputs": [],
   "source": [
    "class Station:\n",
    "    def __init__(self, name, code, line, num):\n",
    "        self.name = name\n",
    "        self.code = code\n",
    "        self.line = line \n",
    "        self.num = num \n",
    "        self.edges = [] \n",
    "\n",
    "    def display(self):\n",
    "        print(self.code, self.name, self.edges)"
   ]
  },
  {
   "cell_type": "code",
   "execution_count": 361,
   "id": "a03d2756-3935-44c9-abf8-a90840e090fa",
   "metadata": {},
   "outputs": [],
   "source": [
    "metro = {}"
   ]
  },
  {
   "cell_type": "code",
   "execution_count": 362,
   "id": "b7ed6c82-ad34-4962-81b9-61770bf6fef3",
   "metadata": {},
   "outputs": [],
   "source": [
    "for row in df.values:\n",
    "    s = Station(row[0], row[1], row[2], row[3])\n",
    "    metro[row[1]] = s"
   ]
  },
  {
   "cell_type": "code",
   "execution_count": 363,
   "id": "4339a996-c8fe-43a6-9be3-5f82169b0752",
   "metadata": {},
   "outputs": [],
   "source": [
    "df['num'] = pd.to_numeric(df['num'], downcast='integer')"
   ]
  },
  {
   "cell_type": "code",
   "execution_count": 364,
   "id": "7c5dbced-2c2c-4361-8229-3b6dbcd0c74a",
   "metadata": {},
   "outputs": [
    {
     "data": {
      "text/html": [
       "<div>\n",
       "<style scoped>\n",
       "    .dataframe tbody tr th:only-of-type {\n",
       "        vertical-align: middle;\n",
       "    }\n",
       "\n",
       "    .dataframe tbody tr th {\n",
       "        vertical-align: top;\n",
       "    }\n",
       "\n",
       "    .dataframe thead th {\n",
       "        text-align: right;\n",
       "    }\n",
       "</style>\n",
       "<table border=\"1\" class=\"dataframe\">\n",
       "  <thead>\n",
       "    <tr style=\"text-align: right;\">\n",
       "      <th></th>\n",
       "      <th>name</th>\n",
       "      <th>code</th>\n",
       "      <th>line</th>\n",
       "      <th>num</th>\n",
       "    </tr>\n",
       "  </thead>\n",
       "  <tbody>\n",
       "  </tbody>\n",
       "</table>\n",
       "</div>"
      ],
      "text/plain": [
       "Empty DataFrame\n",
       "Columns: [name, code, line, num]\n",
       "Index: []"
      ]
     },
     "execution_count": 364,
     "metadata": {},
     "output_type": "execute_result"
    }
   ],
   "source": [
    "df[df.isna().any(axis=1)]"
   ]
  },
  {
   "cell_type": "code",
   "execution_count": 365,
   "id": "7dc724ca-e880-4c9e-9b26-5e887a10c929",
   "metadata": {},
   "outputs": [],
   "source": [
    "df = df.sort_values(['line', 'num'], ascending=[True, True])"
   ]
  },
  {
   "cell_type": "code",
   "execution_count": 366,
   "id": "f7e7683d-cbe8-478d-8b70-3af9553350a2",
   "metadata": {},
   "outputs": [
    {
     "name": "stdout",
     "output_type": "stream",
     "text": [
      "['DHOBY GHAUT MRT STATION' 'CC1' 'CC' 1]\n",
      "['BRAS BASAH MRT STATION' 'CC2' 'CC' 2]\n",
      "['ESPLANADE MRT STATION' 'CC3' 'CC' 3]\n",
      "['PROMENADE MRT STATION' 'CC4' 'CC' 4]\n",
      "['NICOLL HIGHWAY MRT STATION' 'CC5' 'CC' 5]\n",
      "['STADIUM MRT STATION' 'CC6' 'CC' 6]\n",
      "['MOUNTBATTEN MRT STATION' 'CC7' 'CC' 7]\n",
      "['DAKOTA MRT STATION' 'CC8' 'CC' 8]\n",
      "['PAYA LEBAR MRT STATION' 'CC9' 'CC' 9]\n",
      "['MACPHERSON MRT STATION' 'CC10' 'CC' 10]\n",
      "['TAI SENG MRT STATION' 'CC11' 'CC' 11]\n",
      "['BARTLEY MRT STATION' 'CC12' 'CC' 12]\n",
      "['SERANGOON MRT STATION' 'CC13' 'CC' 13]\n",
      "['LORONG CHUAN MRT STATION' 'CC14' 'CC' 14]\n",
      "['BISHAN MRT STATION' 'CC15' 'CC' 15]\n",
      "['MARYMOUNT MRT STATION' 'CC16' 'CC' 16]\n",
      "['CALDECOTT MRT STATION' 'CC17' 'CC' 17]\n",
      "['BUKIT BROWN MRT STATION' 'CC18' 'CC' 18]\n",
      "['BOTANIC GARDENS MRT STATION' 'CC19' 'CC' 19]\n",
      "['FARRER ROAD MRT STATION' 'CC20' 'CC' 20]\n",
      "['HOLLAND VILLAGE MRT STATION' 'CC21' 'CC' 21]\n",
      "['BUONA VISTA MRT STATION' 'CC22' 'CC' 22]\n",
      "['ONE-NORTH MRT STATION' 'CC23' 'CC' 23]\n",
      "['KENT RIDGE MRT STATION' 'CC24' 'CC' 24]\n",
      "['HAW PAR VILLA MRT STATION' 'CC25' 'CC' 25]\n",
      "['PASIR PANJANG MRT STATION' 'CC26' 'CC' 26]\n",
      "['LABRADOR PARK MRT STATION' 'CC27' 'CC' 27]\n",
      "['TELOK BLANGAH MRT STATION' 'CC28' 'CC' 28]\n",
      "['HARBOURFRONT MRT STATION' 'CC29' 'CC' 29]\n"
     ]
    }
   ],
   "source": [
    "for row in df.values:\n",
    "    if row[2] == 'CC':\n",
    "        print(row)"
   ]
  },
  {
   "cell_type": "code",
   "execution_count": 367,
   "id": "97b04645-0154-4be5-8ae5-fe6530735b61",
   "metadata": {},
   "outputs": [
    {
     "name": "stdout",
     "output_type": "stream",
     "text": [
      "<class 'pandas.core.frame.DataFrame'>\n",
      "Index: 182 entries, 188 to 184\n",
      "Data columns (total 4 columns):\n",
      " #   Column  Non-Null Count  Dtype \n",
      "---  ------  --------------  ----- \n",
      " 0   name    182 non-null    object\n",
      " 1   code    182 non-null    object\n",
      " 2   line    182 non-null    object\n",
      " 3   num     182 non-null    int8  \n",
      "dtypes: int8(1), object(3)\n",
      "memory usage: 5.9+ KB\n"
     ]
    }
   ],
   "source": [
    "df.info()"
   ]
  },
  {
   "cell_type": "code",
   "execution_count": 368,
   "id": "c5938dc9-6285-4555-beb5-0d3062a764a8",
   "metadata": {},
   "outputs": [],
   "source": [
    "row_list = df.values\n",
    "for i in range(len(row_list)-1):\n",
    "    current = row_list[i]\n",
    "    next_row = row_list[i+1]\n",
    "    if current[2] == next_row[2]:\n",
    "        if next_row[3] - current[3] == 1:\n",
    "            metro[current[1]].edges.append(next_row[1])\n",
    "            metro[next_row[1]].edges.append(current[1])\n",
    "    "
   ]
  },
  {
   "cell_type": "code",
   "execution_count": 369,
   "id": "aad8dabc-95a6-4cbe-8b44-de448118357c",
   "metadata": {},
   "outputs": [
    {
     "name": "stdout",
     "output_type": "stream",
     "text": [
      "DT11 NEWTON MRT STATION ['DT10', 'DT12']\n"
     ]
    }
   ],
   "source": [
    "metro['DT11'].display()"
   ]
  },
  {
   "cell_type": "code",
   "execution_count": 370,
   "id": "f55f960a-6556-4a45-881e-77cb5a989a0e",
   "metadata": {},
   "outputs": [],
   "source": [
    "df = df.sort_values(['name'], ascending=[True])"
   ]
  },
  {
   "cell_type": "code",
   "execution_count": 371,
   "id": "1ba685ec-a6cb-4df3-a13f-b63be72527f3",
   "metadata": {},
   "outputs": [
    {
     "data": {
      "text/html": [
       "<div>\n",
       "<style scoped>\n",
       "    .dataframe tbody tr th:only-of-type {\n",
       "        vertical-align: middle;\n",
       "    }\n",
       "\n",
       "    .dataframe tbody tr th {\n",
       "        vertical-align: top;\n",
       "    }\n",
       "\n",
       "    .dataframe thead th {\n",
       "        text-align: right;\n",
       "    }\n",
       "</style>\n",
       "<table border=\"1\" class=\"dataframe\">\n",
       "  <thead>\n",
       "    <tr style=\"text-align: right;\">\n",
       "      <th></th>\n",
       "      <th>name</th>\n",
       "      <th>code</th>\n",
       "      <th>line</th>\n",
       "      <th>num</th>\n",
       "    </tr>\n",
       "  </thead>\n",
       "  <tbody>\n",
       "    <tr>\n",
       "      <th>11</th>\n",
       "      <td>ADMIRALTY MRT STATION</td>\n",
       "      <td>NS10</td>\n",
       "      <td>NS</td>\n",
       "      <td>10</td>\n",
       "    </tr>\n",
       "    <tr>\n",
       "      <th>15</th>\n",
       "      <td>ALJUNIED MRT STATION</td>\n",
       "      <td>EW9</td>\n",
       "      <td>EW</td>\n",
       "      <td>9</td>\n",
       "    </tr>\n",
       "    <tr>\n",
       "      <th>16</th>\n",
       "      <td>ANG MO KIO MRT STATION</td>\n",
       "      <td>NS16</td>\n",
       "      <td>NS</td>\n",
       "      <td>16</td>\n",
       "    </tr>\n",
       "    <tr>\n",
       "      <th>75</th>\n",
       "      <td>BAKAU LRT STATION</td>\n",
       "      <td>SE3</td>\n",
       "      <td>SE</td>\n",
       "      <td>3</td>\n",
       "    </tr>\n",
       "    <tr>\n",
       "      <th>130</th>\n",
       "      <td>BARTLEY MRT STATION</td>\n",
       "      <td>CC12</td>\n",
       "      <td>CC</td>\n",
       "      <td>12</td>\n",
       "    </tr>\n",
       "  </tbody>\n",
       "</table>\n",
       "</div>"
      ],
      "text/plain": [
       "                       name  code line  num\n",
       "11    ADMIRALTY MRT STATION  NS10   NS   10\n",
       "15     ALJUNIED MRT STATION   EW9   EW    9\n",
       "16   ANG MO KIO MRT STATION  NS16   NS   16\n",
       "75        BAKAU LRT STATION   SE3   SE    3\n",
       "130     BARTLEY MRT STATION  CC12   CC   12"
      ]
     },
     "execution_count": 371,
     "metadata": {},
     "output_type": "execute_result"
    }
   ],
   "source": [
    "df.head()"
   ]
  },
  {
   "cell_type": "code",
   "execution_count": 375,
   "id": "1d0f17c1-d7d9-4244-9977-b81f6b53df6a",
   "metadata": {},
   "outputs": [],
   "source": [
    "processed = [] \n",
    "for row in df.values:\n",
    "    duplicates = df[df.name == row[0]]\n",
    "    if len(duplicates) > 1 and row[0] not in processed:\n",
    "        processed.append(row[0])\n",
    "        rows = duplicates.values\n",
    "        for i in range(len(duplicates)):\n",
    "            for j in range(i+1, len(duplicates)):\n",
    "                metro[rows[i][1]].edges.append(rows[j][1])\n",
    "                metro[rows[j][1]].edges.append(rows[i][1])"
   ]
  },
  {
   "cell_type": "code",
   "execution_count": 376,
   "id": "4a2dd133-d3bc-41c9-832a-2c956d9b758a",
   "metadata": {},
   "outputs": [
    {
     "name": "stdout",
     "output_type": "stream",
     "text": [
      "CC1 DHOBY GHAUT MRT STATION ['CC2', 'NS24', 'NE6']\n"
     ]
    }
   ],
   "source": [
    "metro['CC1'].display()"
   ]
  },
  {
   "cell_type": "code",
   "execution_count": 377,
   "id": "417b707d-3c2a-4a61-9b95-f0001162883c",
   "metadata": {},
   "outputs": [
    {
     "name": "stdout",
     "output_type": "stream",
     "text": [
      "NS24 DHOBY GHAUT MRT STATION ['NS23', 'NS25', 'NE6', 'CC1']\n"
     ]
    }
   ],
   "source": [
    "metro['NS24'].display()"
   ]
  },
  {
   "cell_type": "code",
   "execution_count": 378,
   "id": "06f60704-91e0-4524-b02c-d124c18e4a98",
   "metadata": {},
   "outputs": [
    {
     "name": "stdout",
     "output_type": "stream",
     "text": [
      "NE6 DHOBY GHAUT MRT STATION ['NE5', 'NE7', 'NS24', 'CC1']\n"
     ]
    }
   ],
   "source": [
    "metro['NE6'].display()"
   ]
  },
  {
   "cell_type": "code",
   "execution_count": 379,
   "id": "ea08799a-b30b-48ac-a9cf-48d1a734ce00",
   "metadata": {},
   "outputs": [],
   "source": [
    "df.to_csv('processed_stations.csv', index=False)"
   ]
  },
  {
   "cell_type": "code",
   "execution_count": null,
   "id": "663e50d0-2d61-41f1-b819-80b20fe3a71a",
   "metadata": {},
   "outputs": [],
   "source": []
  }
 ],
 "metadata": {
  "kernelspec": {
   "display_name": "Python 3 (ipykernel)",
   "language": "python",
   "name": "python3"
  },
  "language_info": {
   "codemirror_mode": {
    "name": "ipython",
    "version": 3
   },
   "file_extension": ".py",
   "mimetype": "text/x-python",
   "name": "python",
   "nbconvert_exporter": "python",
   "pygments_lexer": "ipython3",
   "version": "3.12.2"
  }
 },
 "nbformat": 4,
 "nbformat_minor": 5
}
